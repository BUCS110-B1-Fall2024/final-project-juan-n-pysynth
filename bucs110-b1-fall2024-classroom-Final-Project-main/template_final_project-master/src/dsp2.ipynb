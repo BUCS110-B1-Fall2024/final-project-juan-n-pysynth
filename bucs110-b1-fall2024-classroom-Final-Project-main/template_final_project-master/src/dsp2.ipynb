{
 "cells": [
  {
   "cell_type": "code",
   "execution_count": 8,
   "metadata": {},
   "outputs": [
    {
     "name": "stdout",
     "output_type": "stream",
     "text": [
      "Requirement already satisfied: pandas in /Library/Frameworks/Python.framework/Versions/3.10/lib/python3.10/site-packages (2.2.3)\n",
      "Requirement already satisfied: numpy>=1.22.4 in /Library/Frameworks/Python.framework/Versions/3.10/lib/python3.10/site-packages (from pandas) (1.26.4)\n",
      "Requirement already satisfied: python-dateutil>=2.8.2 in /Library/Frameworks/Python.framework/Versions/3.10/lib/python3.10/site-packages (from pandas) (2.8.2)\n",
      "Requirement already satisfied: pytz>=2020.1 in /Library/Frameworks/Python.framework/Versions/3.10/lib/python3.10/site-packages (from pandas) (2024.2)\n",
      "Requirement already satisfied: tzdata>=2022.7 in /Library/Frameworks/Python.framework/Versions/3.10/lib/python3.10/site-packages (from pandas) (2024.2)\n",
      "Requirement already satisfied: six>=1.5 in /Library/Frameworks/Python.framework/Versions/3.10/lib/python3.10/site-packages (from python-dateutil>=2.8.2->pandas) (1.16.0)\n",
      "\n",
      "\u001b[1m[\u001b[0m\u001b[34;49mnotice\u001b[0m\u001b[1;39;49m]\u001b[0m\u001b[39;49m A new release of pip is available: \u001b[0m\u001b[31;49m24.2\u001b[0m\u001b[39;49m -> \u001b[0m\u001b[32;49m24.3.1\u001b[0m\n",
      "\u001b[1m[\u001b[0m\u001b[34;49mnotice\u001b[0m\u001b[1;39;49m]\u001b[0m\u001b[39;49m To update, run: \u001b[0m\u001b[32;49mpip install --upgrade pip\u001b[0m\n"
     ]
    }
   ],
   "source": [
    "!pip install pandas"
   ]
  },
  {
   "cell_type": "markdown",
   "metadata": {},
   "source": [
    "<span style=\"color:blue\" font_size = 100> Markdown Language</span>."
   ]
  },
  {
   "cell_type": "code",
   "execution_count": 9,
   "metadata": {},
   "outputs": [
    {
     "name": "stdout",
     "output_type": "stream",
     "text": [
      "Requirement already satisfied: scipy in /Library/Frameworks/Python.framework/Versions/3.10/lib/python3.10/site-packages (1.14.1)\n",
      "Requirement already satisfied: soundfile in /Library/Frameworks/Python.framework/Versions/3.10/lib/python3.10/site-packages (0.12.1)\n",
      "Requirement already satisfied: numpy<2.3,>=1.23.5 in /Library/Frameworks/Python.framework/Versions/3.10/lib/python3.10/site-packages (from scipy) (1.26.4)\n",
      "Requirement already satisfied: cffi>=1.0 in /Library/Frameworks/Python.framework/Versions/3.10/lib/python3.10/site-packages (from soundfile) (1.17.1)\n",
      "Requirement already satisfied: pycparser in /Library/Frameworks/Python.framework/Versions/3.10/lib/python3.10/site-packages (from cffi>=1.0->soundfile) (2.22)\n",
      "\n",
      "\u001b[1m[\u001b[0m\u001b[34;49mnotice\u001b[0m\u001b[1;39;49m]\u001b[0m\u001b[39;49m A new release of pip is available: \u001b[0m\u001b[31;49m24.2\u001b[0m\u001b[39;49m -> \u001b[0m\u001b[32;49m24.3.1\u001b[0m\n",
      "\u001b[1m[\u001b[0m\u001b[34;49mnotice\u001b[0m\u001b[1;39;49m]\u001b[0m\u001b[39;49m To update, run: \u001b[0m\u001b[32;49mpip install --upgrade pip\u001b[0m\n",
      "Note: you may need to restart the kernel to use updated packages.\n"
     ]
    }
   ],
   "source": [
    "pip install scipy soundfile"
   ]
  },
  {
   "cell_type": "code",
   "execution_count": 12,
   "metadata": {},
   "outputs": [],
   "source": [
    "import librosa\n",
    "import pandas\n",
    "import scipy \n",
    "import math\n",
    "import numpy as np\n",
    "import sounddevice as sd\n",
    "import soundfile as sf\n",
    "from matplotlib import pyplot as plt\n",
    "from scipy.io.wavfile import write\n",
    "\n"
   ]
  },
  {
   "cell_type": "code",
   "execution_count": 11,
   "metadata": {},
   "outputs": [],
   "source": [
    "class GenerateWaveform:\n",
    "    #Class to generate different Wave Forms based on parameters\n",
    "    def __init__(self, frequency, amplitude, time, duration):\n",
    "        #Each waveform generated must have a frequency, an amplitude, time, a duration of the audio clip played, and a typical sampling rate for 48 khz\n",
    "        self.frequency = frequency\n",
    "        self.amplitude = amplitude\n",
    "        self.time = time\n",
    "        self.duration = duration\n",
    "        self.SAMPLING_RATE = 48000\n",
    "        self.time = np.linspace(0, self.duration, int(self.SAMPLING_RATE * self.duration), endpoint=False)\n",
    "\n",
    "    def sine_wave(self):\n",
    "        #Generate a sine wave\n",
    "        return  self.amplitude * (np.sin(2 * np.pi * self.frequency * self.time))\n",
    "    \n",
    "    def triangle_wave(self):\n",
    "        #Generate a square wave\n",
    "        return self.amplitude * (4 * abs((self.frequency * self.time) - ((self.frequency * self.time) + (1 // 2))) - 1)  \n",
    "    \n",
    "    def square_wave(self): \n",
    "        return self.amplitude * np.sign(self.sine_wave)\n",
    "\n",
    "    def sawtooth_wave(self):\n",
    "        return self.amplitude * (2 * (self.time % (1/self.frequency) * self.frequency - 1)) "
   ]
  },
  {
   "cell_type": "code",
   "execution_count": null,
   "metadata": {},
   "outputs": [],
   "source": [
    "class Audio_Playback:\n",
    "    def __init__(self,waveform_instance):\n",
    "        GenerateWaveform()\n",
    "        \n",
    "    def play_waveform(waveform,filename):\n",
    "    #Function to play the audio from any waveform from the Generate Waveform class\n",
    "    waveform_int16 = np.int16(waveform * 32767) \n",
    "    output_filename = f\"{filename}.wav\"\n",
    "\n",
    "    write(output_filename, waveform.SAMPLING_RATE, waveform_int16)\n",
    "\n",
    "    print(f\"Audio saved to {output_filename}\")\n",
    "\n"
   ]
  },
  {
   "cell_type": "code",
   "execution_count": null,
   "metadata": {},
   "outputs": [],
   "source": [
    "def play_waveform(waveform,filename):\n",
    "    #Function to play the audio from any waveform from the Generate Waveform class\n",
    "    waveform_int16 = np.int16(waveform * 32767) \n",
    "    output_filename = f\"{filename}.wav\"\n",
    "\n",
    "    write(output_filename, waveform.SAMPLING_RATE, waveform_int16)\n",
    "\n",
    "    print(f\"Audio saved to {output_filename}\")\n",
    "\n"
   ]
  },
  {
   "cell_type": "code",
   "execution_count": null,
   "metadata": {},
   "outputs": [],
   "source": []
  },
  {
   "cell_type": "code",
   "execution_count": null,
   "metadata": {},
   "outputs": [],
   "source": []
  }
 ],
 "metadata": {
  "kernelspec": {
   "display_name": "Python 3",
   "language": "python",
   "name": "python3"
  },
  "language_info": {
   "codemirror_mode": {
    "name": "ipython",
    "version": 3
   },
   "file_extension": ".py",
   "mimetype": "text/x-python",
   "name": "python",
   "nbconvert_exporter": "python",
   "pygments_lexer": "ipython3",
   "version": "3.10.5"
  }
 },
 "nbformat": 4,
 "nbformat_minor": 2
}
